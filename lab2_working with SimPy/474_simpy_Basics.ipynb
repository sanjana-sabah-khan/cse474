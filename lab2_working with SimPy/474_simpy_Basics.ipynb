{
  "nbformat": 4,
  "nbformat_minor": 0,
  "metadata": {
    "colab": {
      "provenance": []
    },
    "kernelspec": {
      "name": "python3",
      "display_name": "Python 3"
    },
    "language_info": {
      "name": "python"
    }
  },
  "cells": [
    {
      "cell_type": "code",
      "source": [
        "!pip install simpy"
      ],
      "metadata": {
        "colab": {
          "base_uri": "https://localhost:8080/"
        },
        "id": "BvYMxU2GqGH0",
        "outputId": "3f589eb0-cd3f-4db8-9479-33680340ae18"
      },
      "execution_count": null,
      "outputs": [
        {
          "output_type": "stream",
          "name": "stdout",
          "text": [
            "Looking in indexes: https://pypi.org/simple, https://us-python.pkg.dev/colab-wheels/public/simple/\n",
            "Collecting simpy\n",
            "  Downloading simpy-4.0.1-py2.py3-none-any.whl (29 kB)\n",
            "Installing collected packages: simpy\n",
            "Successfully installed simpy-4.0.1\n"
          ]
        }
      ]
    },
    {
      "cell_type": "code",
      "execution_count": null,
      "metadata": {
        "id": "S00-Qe0Qn1xV",
        "colab": {
          "base_uri": "https://localhost:8080/"
        },
        "outputId": "8e37bbb2-718e-4cc0-ac26-29b9ee89fa1a"
      },
      "outputs": [
        {
          "output_type": "stream",
          "name": "stdout",
          "text": [
            "Start parking at 0\n",
            "Start driving at 5\n",
            "Start parking at 7\n",
            "Start driving at 12\n",
            "Start parking at 14\n"
          ]
        }
      ],
      "source": [
        "import simpy\n",
        "\n",
        "def car(env):\n",
        "\n",
        "  while True:\n",
        "    \n",
        "    print('Start parking at %d' % env.now)\n",
        "    parking_duration = 5\n",
        "    yield env.timeout(parking_duration)\n",
        "\n",
        "    print('Start driving at %d' % env.now)\n",
        "    trip_duration = 2\n",
        "    yield env.timeout(trip_duration)\n",
        "\n",
        "\n",
        "env = simpy.Environment()\n",
        "\n",
        "env.process( car( env ) )\n",
        "env.run( until = 15 )"
      ]
    },
    {
      "cell_type": "markdown",
      "source": [
        "## **Waiting for a Process**"
      ],
      "metadata": {
        "id": "UA8LEnQ3IMfV"
      }
    },
    {
      "cell_type": "code",
      "source": [
        "class Car(object):\n",
        "\n",
        "  def __init__(self, env):\n",
        "\n",
        "    self.env = env\n",
        "    # Start the run process everytime an instance is created.\n",
        "    self.action = env.process(self.run())\n",
        "\n",
        "\n",
        "  def run(self):\n",
        "    \n",
        "    while True:\n",
        "\n",
        "      print('Start parking and charging at %d' % self.env.now)\n",
        "      charge_duration = 5\n",
        "      # We yield the process that process() returns to wait for it to finish\n",
        "      yield self.env.process(self.charge(charge_duration))\n",
        "\n",
        "      # The charge process has finished and we can start driving again.\n",
        "      print('Start driving at %d' % self.env.now)\n",
        "      trip_duration = 2\n",
        "      yield self.env.timeout(trip_duration)\n",
        "      \n",
        "      \n",
        "  def charge(self, duration):\n",
        "\n",
        "      yield self.env.timeout(duration)\n",
        "      "
      ],
      "metadata": {
        "id": "daLk6ot_qYrM"
      },
      "execution_count": null,
      "outputs": []
    },
    {
      "cell_type": "code",
      "source": [
        "\n",
        "env = simpy.Environment()\n",
        "\n",
        "env.process( car( env ) )\n",
        "\n",
        "env.run( until = 15 )"
      ],
      "metadata": {
        "colab": {
          "base_uri": "https://localhost:8080/"
        },
        "id": "NpjT0emGqY6b",
        "outputId": "d5f06ed1-5580-4620-e8db-b075d690940c"
      },
      "execution_count": null,
      "outputs": [
        {
          "output_type": "stream",
          "name": "stdout",
          "text": [
            "Start parking at 0\n",
            "Start driving at 5\n",
            "Start parking at 7\n",
            "Start driving at 12\n",
            "Start parking at 14\n"
          ]
        }
      ]
    },
    {
      "cell_type": "markdown",
      "source": [
        "## **Interrupting Another Process**"
      ],
      "metadata": {
        "id": "sUxTmw9kIUFv"
      }
    },
    {
      "cell_type": "code",
      "source": [
        "class Car(object):\n",
        "\n",
        "  def __init__(self, env):\n",
        "    self.env = env\n",
        "    self.action = env.process(self.run())\n",
        "\n",
        "\n",
        "  def run(self):\n",
        "    while True:\n",
        "      print('Start parking and charging at %d' % self.env.now)\n",
        "      charge_duration = 5\n",
        "\n",
        "      # We may get interrupted while charging the battery\n",
        "      try:\n",
        "          yield self.env.process(self.charge(charge_duration))\n",
        "\n",
        "      except simpy.Interrupt:\n",
        "          # When we received an interrupt, we stop charging and\n",
        "          # switch to the \"driving\" state\n",
        "          print('Was interrupted. Hope, the battery is full enough ')\n",
        "\n",
        "      print('Start driving at %d' % self.env.now)\n",
        "      trip_duration = 2\n",
        "      yield self.env.timeout(trip_duration)\n",
        "\n",
        "\n",
        "  def charge(self, duration):\n",
        "    yield self.env.timeout(duration)\n",
        "    "
      ],
      "metadata": {
        "id": "73oTVBxlH7LK"
      },
      "execution_count": null,
      "outputs": []
    },
    {
      "cell_type": "code",
      "source": [
        "env = simpy.Environment()\n",
        "car = Car(env)\n",
        " \n",
        "def driver(env, car):\n",
        "   yield env.timeout(3)\n",
        "   car.action.interrupt()\n",
        "\n",
        "env.process(driver(env, car))\n",
        "env.run(until=15)"
      ],
      "metadata": {
        "colab": {
          "base_uri": "https://localhost:8080/"
        },
        "id": "MZwS0J40JMcf",
        "outputId": "a3d13a06-5ed6-4581-fbc4-99b73d96e9be"
      },
      "execution_count": null,
      "outputs": [
        {
          "output_type": "stream",
          "name": "stdout",
          "text": [
            "Start parking and charging at 0\n",
            "Was interrupted. Hope, the battery is full enough \n",
            "Start driving at 3\n",
            "Start parking and charging at 5\n",
            "Start driving at 10\n",
            "Start parking and charging at 12\n"
          ]
        }
      ]
    },
    {
      "cell_type": "markdown",
      "source": [
        "## **Shared Resources**"
      ],
      "metadata": {
        "id": "Qo6Xu-ZOWhkd"
      }
    },
    {
      "cell_type": "code",
      "source": [
        "def car(env, name, bcs, driving_time, charge_duration):\n",
        "\n",
        "  # Simulate driving to the BCS\n",
        "  yield env.timeout(driving_time)\n",
        "\n",
        "  # Request one of its charging spots\n",
        "  print('%s arriving at %d' % (name, env.now))\n",
        "\n",
        "  with bcs.request() as req:\n",
        "      yield req\n",
        "\n",
        "      # Charge the battery\n",
        "      print('%s starting to charge at %s' % (name, env.now))\n",
        "      yield env.timeout(charge_duration)\n",
        "      \n",
        "      print('%s leaving the bcs at %s' % (name, env.now))"
      ],
      "metadata": {
        "id": "yyO8V40VWYPb"
      },
      "execution_count": null,
      "outputs": []
    },
    {
      "cell_type": "code",
      "source": [
        "\n",
        "env = simpy.Environment()\n",
        "bcs = simpy.Resource(env, capacity=2)\n",
        "\n",
        "for i in range(4):\n",
        "  env.process( car (env, 'Car %d' % i, bcs, i*2, 5) )\n",
        "\n",
        "env.run()"
      ],
      "metadata": {
        "colab": {
          "base_uri": "https://localhost:8080/"
        },
        "id": "jAntHMiBYVf-",
        "outputId": "c3330534-c607-4211-adec-2d92cd96aa70"
      },
      "execution_count": null,
      "outputs": [
        {
          "output_type": "stream",
          "name": "stdout",
          "text": [
            "Car 0 arriving at 0\n",
            "Car 0 starting to charge at 0\n",
            "Car 1 arriving at 2\n",
            "Car 1 starting to charge at 2\n",
            "Car 2 arriving at 4\n",
            "Car 0 leaving the bcs at 5\n",
            "Car 2 starting to charge at 5\n",
            "Car 3 arriving at 6\n",
            "Car 1 leaving the bcs at 7\n",
            "Car 3 starting to charge at 7\n",
            "Car 2 leaving the bcs at 10\n",
            "Car 3 leaving the bcs at 12\n"
          ]
        }
      ]
    },
    {
      "cell_type": "markdown",
      "source": [
        "# **Bank Renege**"
      ],
      "metadata": {
        "id": "nz3vQ40Tbul5"
      }
    },
    {
      "cell_type": "code",
      "source": [
        "\"\"\"\n",
        "Bank renege example\n",
        "\n",
        "Covers:\n",
        "\n",
        "- Resources: Resource\n",
        "- Condition events\n",
        "\n",
        "Scenario:\n",
        "  A counter with a random service time and customers who renege. Based on the\n",
        "  program bank08.py from TheBank tutorial of SimPy 2. (KGM)\n",
        "\n",
        "\"\"\"\n",
        "import random\n",
        "\n",
        "import simpy\n",
        "\n",
        "\n",
        "RANDOM_SEED = 42\n",
        "NEW_CUSTOMERS = 5  # Total number of customers\n",
        "INTERVAL_CUSTOMERS = 10.0  # Generate new customers roughly every x seconds\n",
        "MIN_PATIENCE = 1  # Min. customer patience\n",
        "MAX_PATIENCE = 3  # Max. customer patience\n",
        "\n",
        "\n",
        "def source(env, number, interval, counter):\n",
        "\n",
        "    \"\"\"Source generates customers randomly\"\"\"\n",
        "    for i in range(number):\n",
        "\n",
        "        c = customer(env, 'Customer%02d' % i, counter, time_in_bank=12.0)\n",
        "        env.process(c)\n",
        "\n",
        "        t = random.expovariate(1.0 / interval)\n",
        "        yield env.timeout(t)\n",
        "\n",
        "\n",
        "def customer(env, name, counter, time_in_bank):\n",
        "\n",
        "    \"\"\"Customer arrives, is served and leaves.\"\"\"\n",
        "    arrive = env.now\n",
        "    print('%7.4f %s: Here I am' % (arrive, name))\n",
        "\n",
        "    with counter.request() as req:\n",
        "\n",
        "        patience = random.uniform(MIN_PATIENCE, MAX_PATIENCE)\n",
        "\n",
        "        # Wait for the counter or abort at the end of our tether\n",
        "        results = yield req | env.timeout(patience)\n",
        "\n",
        "        wait = env.now - arrive\n",
        "\n",
        "        if req in results:\n",
        "          \n",
        "            # We got to the counter\n",
        "            print('%7.4f %s: Waited %6.3f' % (env.now, name, wait))\n",
        "\n",
        "            tib = random.expovariate(1.0 / time_in_bank)\n",
        "            yield env.timeout(tib)\n",
        "            print('%7.4f %s: Finished' % (env.now, name))\n",
        "\n",
        "        else:\n",
        "            # We reneged\n",
        "            print('%7.4f %s: RENEGED after %6.3f' % (env.now, name, wait))\n",
        "\n",
        "\n",
        "# Setup and start the simulation\n",
        "print('Bank renege')\n",
        "random.seed(RANDOM_SEED)\n",
        "env = simpy.Environment()\n",
        "\n",
        "# Start processes and run\n",
        "counter = simpy.Resource(env, capacity=1)\n",
        "env.process(source(env, NEW_CUSTOMERS, INTERVAL_CUSTOMERS, counter))\n",
        "env.run()"
      ],
      "metadata": {
        "colab": {
          "base_uri": "https://localhost:8080/"
        },
        "id": "2JmItA2sbty5",
        "outputId": "26c19d6a-0e52-4bc5-897f-9975bac679a9"
      },
      "execution_count": null,
      "outputs": [
        {
          "output_type": "stream",
          "name": "stdout",
          "text": [
            "Bank renege\n",
            " 0.0000 Customer00: Here I am\n",
            " 0.0000 Customer00: Waited  0.000\n",
            " 3.8595 Customer00: Finished\n",
            "10.2006 Customer01: Here I am\n",
            "10.2006 Customer01: Waited  0.000\n",
            "12.7265 Customer02: Here I am\n",
            "13.9003 Customer02: RENEGED after  1.174\n",
            "23.7507 Customer01: Finished\n",
            "34.9993 Customer03: Here I am\n",
            "34.9993 Customer03: Waited  0.000\n",
            "37.9599 Customer03: Finished\n",
            "40.4798 Customer04: Here I am\n",
            "40.4798 Customer04: Waited  0.000\n",
            "43.1401 Customer04: Finished\n"
          ]
        }
      ]
    },
    {
      "cell_type": "markdown",
      "source": [
        "# **Machine Shop**"
      ],
      "metadata": {
        "id": "Ro2zjhnl4QD4"
      }
    },
    {
      "cell_type": "code",
      "source": [
        "\"\"\"\n",
        "Machine shop example\n",
        "\n",
        "Covers:\n",
        "\n",
        "- Interrupts\n",
        "- Resources: PreemptiveResource\n",
        "\n",
        "Scenario:\n",
        "  A workshop has *n* identical machines. A stream of jobs (enough to\n",
        "  keep the machines busy) arrives. Each machine breaks down\n",
        "  periodically. Repairs are carried out by one repairman. The repairman\n",
        "  has other, less important tasks to perform, too. Broken machines\n",
        "  preempt theses tasks. The repairman continues them when he is done\n",
        "  with the machine repair. The workshop works continuously.\n",
        "\n",
        "\"\"\"\n",
        "import random\n",
        "\n",
        "import simpy\n",
        "\n",
        "\n",
        "RANDOM_SEED = 42\n",
        "PT_MEAN = 10.0         # Avg. processing time in minutes\n",
        "PT_SIGMA = 2.0         # Sigma of processing time\n",
        "MTTF = 300.0           # Mean time to failure in minutes\n",
        "BREAK_MEAN = 1 / MTTF  # Param. for expovariate distribution\n",
        "REPAIR_TIME = 30.0     # Time it takes to repair a machine in minutes\n",
        "JOB_DURATION = 30.0    # Duration of other jobs in minutes\n",
        "NUM_MACHINES = 10      # Number of machines in the machine shop\n",
        "WEEKS = 4              # Simulation time in weeks\n",
        "SIM_TIME = WEEKS * 7 * 24 * 60  # Simulation time in minutes\n",
        "\n",
        "\n",
        "def time_per_part():\n",
        "    \"\"\"Return actual processing time for a concrete part.\"\"\"\n",
        "    return random.normalvariate(PT_MEAN, PT_SIGMA)\n",
        "\n",
        "\n",
        "def time_to_failure():\n",
        "    \"\"\"Return time until next failure for a machine.\"\"\"\n",
        "    return random.expovariate(BREAK_MEAN)\n",
        "\n",
        "\n",
        "class Machine(object):\n",
        "    \"\"\"A machine produces parts and my get broken every now and then.\n",
        "\n",
        "    If it breaks, it requests a *repairman* and continues the production\n",
        "    after the it is repaired.\n",
        "\n",
        "    A machine has a *name* and a numberof *parts_made* thus far.\n",
        "\n",
        "    \"\"\"\n",
        "    def __init__(self, env, name, repairman):\n",
        "        self.env = env\n",
        "        self.name = name\n",
        "        self.parts_made = 0\n",
        "        self.broken = False\n",
        "\n",
        "        # Start \"working\" and \"break_machine\" processes for this machine.\n",
        "        self.process = env.process(self.working(repairman))\n",
        "        env.process(self.break_machine())\n",
        "\n",
        "    def working(self, repairman):\n",
        "        \"\"\"Produce parts as long as the simulation runs.\n",
        "\n",
        "        While making a part, the machine may break multiple times.\n",
        "        Request a repairman when this happens.\n",
        "\n",
        "        \"\"\"\n",
        "        while True:\n",
        "            # Start making a new part\n",
        "            done_in = time_per_part()\n",
        "            while done_in:\n",
        "                try:\n",
        "                    # Working on the part\n",
        "                    start = self.env.now\n",
        "                    yield self.env.timeout(done_in)\n",
        "                    done_in = 0  # Set to 0 to exit while loop.\n",
        "\n",
        "                except simpy.Interrupt:\n",
        "                    self.broken = True\n",
        "                    done_in -= self.env.now - start  # How much time left?\n",
        "\n",
        "                    # Request a repairman. This will preempt its \"other_job\".\n",
        "                    with repairman.request(priority=1) as req:\n",
        "                        yield req\n",
        "                        yield self.env.timeout(REPAIR_TIME)\n",
        "\n",
        "                    self.broken = False\n",
        "\n",
        "            # Part is done.\n",
        "            self.parts_made += 1\n",
        "\n",
        "    def break_machine(self):\n",
        "        \"\"\"Break the machine every now and then.\"\"\"\n",
        "        while True:\n",
        "            yield self.env.timeout(time_to_failure())\n",
        "            if not self.broken:\n",
        "                # Only break the machine if it is currently working.\n",
        "                self.process.interrupt()\n",
        "\n",
        "\n",
        "def other_jobs(env, repairman):\n",
        "    \"\"\"The repairman's other (unimportant) job.\"\"\"\n",
        "    while True:\n",
        "        # Start a new job\n",
        "        done_in = JOB_DURATION\n",
        "        while done_in:\n",
        "            # Retry the job until it is done.\n",
        "            # It's priority is lower than that of machine repairs.\n",
        "            with repairman.request(priority=2) as req:\n",
        "                yield req\n",
        "                try:\n",
        "                    start = env.now\n",
        "                    yield env.timeout(done_in)\n",
        "                    done_in = 0\n",
        "                except simpy.Interrupt:\n",
        "                    done_in -= env.now - start\n",
        "\n",
        "\n",
        "# Setup and start the simulation\n",
        "print('Machine shop')\n",
        "random.seed(RANDOM_SEED)  # This helps reproducing the results\n",
        "\n",
        "# Create an environment and start the setup process\n",
        "env = simpy.Environment()\n",
        "repairman = simpy.PreemptiveResource(env, capacity=1)\n",
        "machines = [Machine(env, 'Machine %d' % i, repairman)\n",
        "            for i in range(NUM_MACHINES)]\n",
        "env.process(other_jobs(env, repairman))\n",
        "\n",
        "# Execute!\n",
        "env.run(until=SIM_TIME)\n",
        "\n",
        "# Analyis/results\n",
        "print('Machine shop results after %s weeks' % WEEKS)\n",
        "for machine in machines:\n",
        "    print('%s made %d parts.' % (machine.name, machine.parts_made))"
      ],
      "metadata": {
        "colab": {
          "base_uri": "https://localhost:8080/"
        },
        "id": "rXhjXKVL4KMJ",
        "outputId": "d38753d4-7d1b-4848-b248-e36c873966e1"
      },
      "execution_count": null,
      "outputs": [
        {
          "output_type": "stream",
          "name": "stdout",
          "text": [
            "Machine shop\n",
            "Machine shop results after 4 weeks\n",
            "Machine 0 made 3251 parts.\n",
            "Machine 1 made 3273 parts.\n",
            "Machine 2 made 3242 parts.\n",
            "Machine 3 made 3343 parts.\n",
            "Machine 4 made 3387 parts.\n",
            "Machine 5 made 3244 parts.\n",
            "Machine 6 made 3269 parts.\n",
            "Machine 7 made 3185 parts.\n",
            "Machine 8 made 3302 parts.\n",
            "Machine 9 made 3279 parts.\n"
          ]
        }
      ]
    }
  ]
}